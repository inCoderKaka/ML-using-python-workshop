{
 "cells": [
  {
   "cell_type": "markdown",
   "metadata": {},
   "source": [
    "## Linear Regression"
   ]
  },
  {
   "cell_type": "markdown",
   "metadata": {},
   "source": [
    "In regression problems, we take input features and try to fit the output onto a continuous expected result function.\n",
    "\n",
    "For e.g. : Predicting the house price on the basis of house features such as location of house, number of rooms, sq. ft. etc. \n"
   ]
  },
  {
   "cell_type": "code",
   "execution_count": 161,
   "metadata": {},
   "outputs": [],
   "source": [
    "import numpy as np\n",
    "import pandas as pd\n",
    "import matplotlib.pyplot as plt\n",
    "\n",
    "np.random.seed(24)\n",
    "%matplotlib inline"
   ]
  },
  {
   "cell_type": "code",
   "execution_count": 162,
   "metadata": {},
   "outputs": [],
   "source": [
    "#let us take some sample data points\n",
    "\n",
    "X = np.array([2,4,1,5,6,1,8,7,5,9,0,2,3,4], dtype=float)\n",
    "y = np.array([3,2,0,4,9,2,12,7,4,12,0.5,1,3,6], dtype=float)\n",
    "n = X.shape[0]"
   ]
  },
  {
   "cell_type": "code",
   "execution_count": 163,
   "metadata": {},
   "outputs": [
    {
     "name": "stdout",
     "output_type": "stream",
     "text": [
      "[ 2.  4.  1.  5.  6.  1.  8.  7.  5.  9.  0.  2.  3.  4.]\n"
     ]
    }
   ],
   "source": [
    "print X"
   ]
  },
  {
   "cell_type": "code",
   "execution_count": 164,
   "metadata": {},
   "outputs": [
    {
     "name": "stdout",
     "output_type": "stream",
     "text": [
      "[  3.    2.    0.    4.    9.    2.   12.    7.    4.   12.    0.5   1.\n",
      "   3.    6. ]\n"
     ]
    }
   ],
   "source": [
    "print y"
   ]
  },
  {
   "cell_type": "code",
   "execution_count": 165,
   "metadata": {},
   "outputs": [
    {
     "data": {
      "image/png": "[encoded data removed]",
      "text/plain": [
       "<matplotlib.figure.Figure at 0x7f7783650290>"
      ]
     },
     "metadata": {},
     "output_type": "display_data"
    }
   ],
   "source": [
    "plt.scatter(X,y)\n",
    "plt.xlabel(\"X\")\n",
    "plt.ylabel(\"y\")\n",
    "plt.legend()\n",
    "plt.show()"
   ]
  },
  {
   "cell_type": "markdown",
   "metadata": {},
   "source": [
    "### Most basic Hypothesis Function"
   ]
  },
  {
   "cell_type": "markdown",
   "metadata": {},
   "source": [
    "$$\\widehat{y} = w_{0} + w_{1}x_{1}$$\n",
    "\n",
    "$\\widehat{y} = The\\ output\\ predicted\\ by\\ our\\ model$\n",
    "\n",
    "$w_{0}$\n",
    ",\n",
    "$w_{1}$\n",
    "$= The\\ coefficients\\ of\\ the\\ features\\ ,also\\ known\\ as\\ weights.\\ (We\\ need\\ to\\ adjust\\ the\\ values\\ of\\ these\\ coefficients)$\n",
    "\n",
    "$x_{1} = The\\ input\\ feature\\ value$\n",
    "\n"
   ]
  },
  {
   "cell_type": "code",
   "execution_count": 166,
   "metadata": {},
   "outputs": [],
   "source": [
    "w_0 = np.random.rand()\n",
    "w_1 = np.random.rand()"
   ]
  },
  {
   "cell_type": "code",
   "execution_count": 167,
   "metadata": {},
   "outputs": [],
   "source": [
    "def prediction(w_0, w_1, X):\n",
    "    y_hat_all = []\n",
    "\n",
    "    for x_i in X:\n",
    "        y_hat = w_0 + w_1*x_i\n",
    "        y_hat_all.append(y_hat)\n",
    "    return y_hat_all"
   ]
  },
  {
   "cell_type": "code",
   "execution_count": 168,
   "metadata": {},
   "outputs": [],
   "source": [
    "y_hat = prediction(w_0, w_1, X)"
   ]
  },
  {
   "cell_type": "code",
   "execution_count": 169,
   "metadata": {},
   "outputs": [
    {
     "data": {
      "image/png": "[encoded data removed]",
      "text/plain": [
       "<matplotlib.figure.Figure at 0x7f778399c590>"
      ]
     },
     "metadata": {},
     "output_type": "display_data"
    }
   ],
   "source": [
    "plt.scatter(X,y)\n",
    "plt.plot(X,y_hat)\n",
    "plt.xlabel(\"X\")\n",
    "plt.ylabel(\"y\")\n",
    "plt.legend()\n",
    "plt.show()"
   ]
  },
  {
   "cell_type": "markdown",
   "metadata": {},
   "source": [
    "### Cost Function"
   ]
  },
  {
   "cell_type": "markdown",
   "metadata": {},
   "source": [
    "$$J(w_{0},w_{1}) = \\frac{1}{n}\\sum_{i=1}^{n}(\\widehat{y_{i}}-y_{i})^{2}$$\n",
    "\n",
    "$n = Number\\ of\\ data\\ points$\n",
    "\n",
    "$y_{i} = Actual\\ output$\n",
    "\n",
    "$w_{0}$\n",
    ",\n",
    "$w_{1}$\n",
    "$= Weights$\n",
    "\n",
    "$\\widehat{y_{i}} = Predicted\\ output$"
   ]
  },
  {
   "cell_type": "code",
   "execution_count": 170,
   "metadata": {},
   "outputs": [],
   "source": [
    "def cost_function(y, y_hat, n):\n",
    "    ret = 0.0\n",
    "    for (y_i,y_hat_i) in zip(y, y_hat):\n",
    "        ret = ret + (y_i - y_hat_i)**2\n",
    "    ret = ret/n\n",
    "    return ret"
   ]
  },
  {
   "cell_type": "code",
   "execution_count": 171,
   "metadata": {},
   "outputs": [],
   "source": [
    "cost = cost_function(y, y_hat, n)"
   ]
  },
  {
   "cell_type": "code",
   "execution_count": 172,
   "metadata": {},
   "outputs": [
    {
     "name": "stdout",
     "output_type": "stream",
     "text": [
      "5.86421056909\n"
     ]
    }
   ],
   "source": [
    "print cost"
   ]
  },
  {
   "cell_type": "code",
   "execution_count": 173,
   "metadata": {},
   "outputs": [
    {
     "data": {
      "text/plain": [
       "(14,)"
      ]
     },
     "execution_count": 173,
     "metadata": {},
     "output_type": "execute_result"
    }
   ],
   "source": [
    "X.shape"
   ]
  },
  {
   "cell_type": "code",
   "execution_count": 174,
   "metadata": {},
   "outputs": [],
   "source": [
    "X = X.reshape((n,1))\n",
    "y = y.reshape((n,1))"
   ]
  },
  {
   "cell_type": "code",
   "execution_count": 175,
   "metadata": {},
   "outputs": [
    {
     "name": "stdout",
     "output_type": "stream",
     "text": [
      "(14, 1)\n",
      "(14, 1)\n"
     ]
    }
   ],
   "source": [
    "print X.shape\n",
    "print y.shape"
   ]
  },
  {
   "cell_type": "code",
   "execution_count": 176,
   "metadata": {},
   "outputs": [
    {
     "data": {
      "text/plain": [
       "array([[ 2.],\n",
       "       [ 4.],\n",
       "       [ 1.],\n",
       "       [ 5.],\n",
       "       [ 6.],\n",
       "       [ 1.],\n",
       "       [ 8.],\n",
       "       [ 7.],\n",
       "       [ 5.],\n",
       "       [ 9.],\n",
       "       [ 0.],\n",
       "       [ 2.],\n",
       "       [ 3.],\n",
       "       [ 4.]])"
      ]
     },
     "execution_count": 176,
     "metadata": {},
     "output_type": "execute_result"
    }
   ],
   "source": [
    "X"
   ]
  },
  {
   "cell_type": "code",
   "execution_count": 177,
   "metadata": {},
   "outputs": [],
   "source": [
    "ones = np.ones((14,1))"
   ]
  },
  {
   "cell_type": "code",
   "execution_count": 178,
   "metadata": {},
   "outputs": [
    {
     "data": {
      "text/plain": [
       "array([[ 1.],\n",
       "       [ 1.],\n",
       "       [ 1.],\n",
       "       [ 1.],\n",
       "       [ 1.],\n",
       "       [ 1.],\n",
       "       [ 1.],\n",
       "       [ 1.],\n",
       "       [ 1.],\n",
       "       [ 1.],\n",
       "       [ 1.],\n",
       "       [ 1.],\n",
       "       [ 1.],\n",
       "       [ 1.]])"
      ]
     },
     "execution_count": 178,
     "metadata": {},
     "output_type": "execute_result"
    }
   ],
   "source": [
    "ones"
   ]
  },
  {
   "cell_type": "code",
   "execution_count": 179,
   "metadata": {},
   "outputs": [],
   "source": [
    "X = np.hstack((ones,X))"
   ]
  },
  {
   "cell_type": "code",
   "execution_count": 180,
   "metadata": {},
   "outputs": [
    {
     "data": {
      "text/plain": [
       "array([[ 1.,  2.],\n",
       "       [ 1.,  4.],\n",
       "       [ 1.,  1.],\n",
       "       [ 1.,  5.],\n",
       "       [ 1.,  6.],\n",
       "       [ 1.,  1.],\n",
       "       [ 1.,  8.],\n",
       "       [ 1.,  7.],\n",
       "       [ 1.,  5.],\n",
       "       [ 1.,  9.],\n",
       "       [ 1.,  0.],\n",
       "       [ 1.,  2.],\n",
       "       [ 1.,  3.],\n",
       "       [ 1.,  4.]])"
      ]
     },
     "execution_count": 180,
     "metadata": {},
     "output_type": "execute_result"
    }
   ],
   "source": [
    "X"
   ]
  },
  {
   "cell_type": "code",
   "execution_count": 181,
   "metadata": {},
   "outputs": [],
   "source": [
    "W = np.random.randn(2,1)"
   ]
  },
  {
   "cell_type": "code",
   "execution_count": 182,
   "metadata": {},
   "outputs": [
    {
     "data": {
      "text/plain": [
       "array([[ 1.32921217],\n",
       "       [-0.77003345]])"
      ]
     },
     "execution_count": 182,
     "metadata": {},
     "output_type": "execute_result"
    }
   ],
   "source": [
    "W"
   ]
  },
  {
   "cell_type": "code",
   "execution_count": 183,
   "metadata": {},
   "outputs": [
    {
     "name": "stdout",
     "output_type": "stream",
     "text": [
      "(14, 2)\n",
      "(2, 1)\n"
     ]
    }
   ],
   "source": [
    "print X.shape\n",
    "print W.shape"
   ]
  },
  {
   "cell_type": "markdown",
   "metadata": {},
   "source": [
    "### General hypothesis function"
   ]
  },
  {
   "cell_type": "markdown",
   "metadata": {},
   "source": [
    "$$\\widehat{y} = w_{0}x_{0} + w_{1}x_{1} + w_{2}x_{2} + ........ + w_{m}x_{m}$$\n",
    "\n",
    "$\\widehat{y} = The\\ output\\ predicted\\ by\\ our\\ model$\n",
    "\n",
    "$m = Number\\ of\\ features$\n",
    "\n",
    "$w_{0}$\n",
    ",\n",
    "$w_{1}$\n",
    ".....\n",
    "$w_{m}$\n",
    "$= The\\ coefficients\\ of\\ the\\ features\\ ,also\\ known\\ as\\ weights.\\ (We\\ need\\ to\\ adjust\\ the\\ values\\ of\\ these\\ coefficients)$\n",
    "\n",
    "$x_{1}$\n",
    ",\n",
    "$x_{2}$\n",
    ".....\n",
    "$x_{m}$\n",
    "$= The\\ input\\ feature\\ value$\n",
    "\n",
    "$x_{0} = Bias\\ term\\ (Usually\\ equal\\ to\\ 1)$\n"
   ]
  },
  {
   "cell_type": "markdown",
   "metadata": {},
   "source": [
    "### General cost function"
   ]
  },
  {
   "cell_type": "markdown",
   "metadata": {},
   "source": [
    "$$J(W) = \\frac{1}{n}\\sum_{i=1}^{n}(\\widehat{y_{i}}-y_{i})^{2}$$\n",
    "\n",
    "$n = Number\\ of\\ data\\ points$\n",
    "\n",
    "$y_{i} = Actual\\ output$\n",
    "\n",
    "$W = Weights\\ vector$\n",
    "\n",
    "$\\widehat{y_{i}} = Predicted\\ output$"
   ]
  },
  {
   "cell_type": "code",
   "execution_count": 184,
   "metadata": {},
   "outputs": [],
   "source": [
    "def prediction(X,W):\n",
    "    return np.dot(X,W)"
   ]
  },
  {
   "cell_type": "code",
   "execution_count": 185,
   "metadata": {},
   "outputs": [],
   "source": [
    "y_hat = prediction(X,W)"
   ]
  },
  {
   "cell_type": "code",
   "execution_count": 186,
   "metadata": {},
   "outputs": [
    {
     "name": "stdout",
     "output_type": "stream",
     "text": [
      "[[-0.21085473]\n",
      " [-1.75092164]\n",
      " [ 0.55917872]\n",
      " [-2.52095509]\n",
      " [-3.29098854]\n",
      " [ 0.55917872]\n",
      " [-4.83105544]\n",
      " [-4.06102199]\n",
      " [-2.52095509]\n",
      " [-5.6010889 ]\n",
      " [ 1.32921217]\n",
      " [-0.21085473]\n",
      " [-0.98088818]\n",
      " [-1.75092164]]\n"
     ]
    }
   ],
   "source": [
    "print y_hat"
   ]
  },
  {
   "cell_type": "code",
   "execution_count": 187,
   "metadata": {},
   "outputs": [
    {
     "data": {
      "image/png": "[encoded data removed]",
      "text/plain": [
       "<matplotlib.figure.Figure at 0x7f778366a450>"
      ]
     },
     "metadata": {},
     "output_type": "display_data"
    }
   ],
   "source": [
    "plt.scatter(X[:,1].ravel(),y.ravel())\n",
    "plt.plot(X[:,1].ravel(),y_hat.ravel())\n",
    "plt.xlabel(\"X\")\n",
    "plt.ylabel(\"y\")\n",
    "plt.legend()\n",
    "plt.show()"
   ]
  },
  {
   "cell_type": "code",
   "execution_count": 188,
   "metadata": {},
   "outputs": [],
   "source": [
    "def cost_function(y,y_hat):\n",
    "    return np.mean((y-y_hat)**2)"
   ]
  },
  {
   "cell_type": "code",
   "execution_count": 189,
   "metadata": {},
   "outputs": [],
   "source": [
    "loss = cost_function(y, y_hat)"
   ]
  },
  {
   "cell_type": "code",
   "execution_count": 190,
   "metadata": {},
   "outputs": [
    {
     "name": "stdout",
     "output_type": "stream",
     "text": [
      "5.86421056909\n"
     ]
    }
   ],
   "source": [
    "print cost"
   ]
  },
  {
   "cell_type": "markdown",
   "metadata": {},
   "source": [
    "### Optimization : Gradient Descent"
   ]
  },
  {
   "cell_type": "markdown",
   "metadata": {},
   "source": [
    "$One\\ step\\ of\\ Gradient\\ Descent\\ is\\ :\\ $\n",
    "\n",
    "$For\\ all\\ weights\\ j : $\n",
    "\n",
    "$$w_{j} = w_{j} -  \\alpha \\frac{\\partial }{\\partial w_{j}} J(W)$$\n",
    "\n",
    "$\\alpha = Learning\\ rate$\n",
    "\n",
    "$\\frac{\\partial }{\\partial w_{j}} J(W)\\ \\ \\ = \\ \\ \\ Partial\\ derivative\\ of\\ loss\\ function\\ \\ w.r.t\\ \\ w_{j} \\ \\ \\ = \\ \\ \\ \\ \\frac{2}{n}\\sum_{i=1}^{n}(\\widehat{y_{i}}-y_{i})x_{j}^{(i)}$ \n",
    "\n",
    "$\\therefore For\\ all\\ weights\\ j : $\n",
    "\n",
    "$$w_{j} = w_{j} -  \\alpha \\frac{2}{n}\\sum_{i=1}^{n}(\\widehat{y_{i}}-y_{i})x_{j}^{(i)}$$"
   ]
  },
  {
   "cell_type": "code",
   "execution_count": 191,
   "metadata": {},
   "outputs": [],
   "source": [
    "def gradient_descent(W, y_hat, y, X, alpha=0.01):\n",
    "    W_new = np.array(W)\n",
    "    for j in range(W.shape[0]):\n",
    "        grad = 2*(np.sum( (y_hat - y).ravel() * X[:,j].ravel()))/n\n",
    "        W_new[j,:] = W_new[j,:] - alpha*grad\n",
    "    return W_new"
   ]
  },
  {
   "cell_type": "code",
   "execution_count": 192,
   "metadata": {},
   "outputs": [
    {
     "data": {
      "text/plain": [
       "array([[ 1.45890208],\n",
       "       [ 0.05441795]])"
      ]
     },
     "execution_count": 192,
     "metadata": {},
     "output_type": "execute_result"
    }
   ],
   "source": [
    "gradient_descent(W,y_hat,y,X)"
   ]
  },
  {
   "cell_type": "code",
   "execution_count": 194,
   "metadata": {},
   "outputs": [],
   "source": [
    "def gradient_descent(W, y_hat, y, X, alpha=0.01):\n",
    "    W_new = W - alpha * (2.0/n) * np.dot(np.transpose(X),(y_hat - y))\n",
    "    return W_new"
   ]
  },
  {
   "cell_type": "code",
   "execution_count": 195,
   "metadata": {},
   "outputs": [
    {
     "data": {
      "text/plain": [
       "array([[ 1.45890208],\n",
       "       [ 0.05441795]])"
      ]
     },
     "execution_count": 195,
     "metadata": {},
     "output_type": "execute_result"
    }
   ],
   "source": [
    "gradient_descent(W,y_hat,y,X)"
   ]
  },
  {
   "cell_type": "code",
   "execution_count": 196,
   "metadata": {},
   "outputs": [
    {
     "name": "stdout",
     "output_type": "stream",
     "text": [
      "22.7603844643\n"
     ]
    },
    {
     "data": {
      "image/png": "[encoded data removed]",
      "text/plain": [
       "<matplotlib.figure.Figure at 0x7f77859b1f50>"
      ]
     },
     "metadata": {},
     "output_type": "display_data"
    }
   ],
   "source": [
    "W = gradient_descent(W,y_hat,y,X)\n",
    "y_hat = prediction(X,W)\n",
    "cost = cost_function(y, y_hat)\n",
    "print cost\n",
    "plt.scatter(X[:,1].ravel(),y.ravel())\n",
    "plt.plot(X[:,1].ravel(),y_hat.ravel())\n",
    "plt.xlabel(\"X\")\n",
    "plt.ylabel(\"y\")\n",
    "plt.legend()\n",
    "plt.show()"
   ]
  },
  {
   "cell_type": "code",
   "execution_count": 197,
   "metadata": {},
   "outputs": [],
   "source": [
    "def linear_regression(X, y, iterations=100, alpha=0.01, verbose=True, plot_descent=False, plot =True):\n",
    "    n_samples = X.shape[0]\n",
    "    n_features = X.shape[1]\n",
    "    costs = []\n",
    "    W = np.random.randn(n_features,1)\n",
    "    W_1 = []\n",
    "    if(verbose):\n",
    "        print \"Initial Weights :\"\n",
    "        print W\n",
    "    for i in range(iterations):\n",
    "        y_hat = np.dot(X,W)\n",
    "        cost = np.mean((y-y_hat)**2)\n",
    "        costs.append(cost)\n",
    "        W_1.append(W[1,:])\n",
    "        W = W - alpha * (2.0/n_samples) * np.dot(np.transpose(X),(y_hat - y))\n",
    "    if(verbose):\n",
    "        print \"Final weights : \"\n",
    "        print W\n",
    "        print \"Final cost : \", costs[iterations-1]\n",
    "    y_hat = np.dot(X,W)\n",
    "    \n",
    "    #ploting cost and resultant graphs \n",
    "    if(plot == True):\n",
    "        if(not plot_descent):\n",
    "            f, (ax1,ax2) = plt.subplots(1,2, figsize=(15,8))\n",
    "            ax1.plot(range(iterations), costs)\n",
    "            ax1.set_xlabel(\"Iterations\")\n",
    "            ax1.set_ylabel(\"Cost\")\n",
    "            if(n_features==2):\n",
    "                ax2.scatter(X[:,1].ravel(),y.ravel())\n",
    "                ax2.plot(X[:,1].ravel(),y_hat.ravel(), color='r')\n",
    "                ax2.set_xlabel(\"X\")\n",
    "                ax2.set_ylabel(\"y\")\n",
    "            plt.show()\n",
    "        else:\n",
    "            f, (ax1,ax2,ax3) = plt.subplots(1,3, figsize=(15,8))\n",
    "            ax1.plot(range(iterations), costs)\n",
    "            ax1.set_xlabel(\"Iterations\")\n",
    "            ax1.set_ylabel(\"Cost\")\n",
    "            if(n_features==2):\n",
    "                ax2.scatter(X[:,1].ravel(),y.ravel())\n",
    "                ax2.plot(X[:,1].ravel(),y_hat.ravel(), color='r')\n",
    "                ax2.set_xlabel(\"X\")\n",
    "                ax2.set_ylabel(\"y\")\n",
    "                ax3.plot(W_1, costs)\n",
    "                ax3.scatter(W_1, costs, color='r')\n",
    "                ax3.set_ylabel(\"Cost ( J(W) )\")\n",
    "                ax3.set_xlabel(\"W1\")\n",
    "            plt.show()\n",
    "    \n",
    "    return W\n",
    "    "
   ]
  },
  {
   "cell_type": "code",
   "execution_count": 198,
   "metadata": {},
   "outputs": [
    {
     "name": "stdout",
     "output_type": "stream",
     "text": [
      "Initial Weights :\n",
      "[[-0.31628036]\n",
      " [-0.99081039]]\n",
      "Final weights : \n",
      "[[-0.28463489]\n",
      " [ 1.25048821]]\n",
      "Final cost :  2.37911427062\n"
     ]
    },
    {
     "data": {
      "image/png": "[encoded data removed]",
      "text/plain": [
       "<matplotlib.figure.Figure at 0x7f7783505490>"
      ]
     },
     "metadata": {},
     "output_type": "display_data"
    }
   ],
   "source": [
    "W = linear_regression(X, y, alpha=0.01, plot_descent=True)"
   ]
  },
  {
   "cell_type": "code",
   "execution_count": 225,
   "metadata": {},
   "outputs": [],
   "source": [
    "n = 50\n",
    "X = np.array(range(n))\n",
    "X = X.reshape((n,1))\n",
    "y = 2 * X**2"
   ]
  },
  {
   "cell_type": "code",
   "execution_count": 226,
   "metadata": {},
   "outputs": [],
   "source": [
    "X = np.hstack((np.ones((n,1)), X))"
   ]
  },
  {
   "cell_type": "code",
   "execution_count": 227,
   "metadata": {},
   "outputs": [
    {
     "name": "stdout",
     "output_type": "stream",
     "text": [
      "Initial Weights :\n",
      "[[ 0.12166836]\n",
      " [ 1.20760254]]\n",
      "Final weights : \n",
      "[[ -1.70362022]\n",
      " [ 74.2864997 ]]\n",
      "Final cost :  296260.649773\n"
     ]
    },
    {
     "data": {
      "image/png": "[encoded data removed]",
      "text/plain": [
       "<matplotlib.figure.Figure at 0x7f77830c8350>"
      ]
     },
     "metadata": {},
     "output_type": "display_data"
    }
   ],
   "source": [
    "W = linear_regression(X, y, alpha=0.0001, iterations=100)"
   ]
  },
  {
   "cell_type": "code",
   "execution_count": 228,
   "metadata": {},
   "outputs": [],
   "source": [
    "X[:,1] = X[:,1]**2"
   ]
  },
  {
   "cell_type": "code",
   "execution_count": 231,
   "metadata": {},
   "outputs": [
    {
     "name": "stdout",
     "output_type": "stream",
     "text": [
      "Initial Weights :\n",
      "[[-0.38568351]\n",
      " [ 0.519818  ]]\n",
      "Final weights : \n",
      "[[-0.38467281]\n",
      " [ 2.00026172]]\n",
      "Final cost :  0.0665768642434\n"
     ]
    },
    {
     "data": {
      "image/png": "[encoded data removed]",
      "text/plain": [
       "<matplotlib.figure.Figure at 0x7f77838e3150>"
      ]
     },
     "metadata": {},
     "output_type": "display_data"
    }
   ],
   "source": [
    "W = linear_regression(X, y, alpha=0.0000001, iterations=100)"
   ]
  },
  {
   "cell_type": "code",
   "execution_count": 232,
   "metadata": {},
   "outputs": [],
   "source": [
    "X[:,1] = (X[:,1]-X[:,1].mean())/(X[:,1].max() - X[:,1].min())"
   ]
  },
  {
   "cell_type": "code",
   "execution_count": 233,
   "metadata": {},
   "outputs": [
    {
     "data": {
      "text/plain": [
       "array([[ 1.        , -0.33673469],\n",
       "       [ 1.        , -0.3363182 ],\n",
       "       [ 1.        , -0.33506872],\n",
       "       [ 1.        , -0.33298626],\n",
       "       [ 1.        , -0.3300708 ],\n",
       "       [ 1.        , -0.32632237],\n",
       "       [ 1.        , -0.32174094],\n",
       "       [ 1.        , -0.31632653],\n",
       "       [ 1.        , -0.31007913],\n",
       "       [ 1.        , -0.30299875],\n",
       "       [ 1.        , -0.29508538],\n",
       "       [ 1.        , -0.28633903],\n",
       "       [ 1.        , -0.27675968],\n",
       "       [ 1.        , -0.26634736],\n",
       "       [ 1.        , -0.25510204],\n",
       "       [ 1.        , -0.24302374],\n",
       "       [ 1.        , -0.23011245],\n",
       "       [ 1.        , -0.21636818],\n",
       "       [ 1.        , -0.20179092],\n",
       "       [ 1.        , -0.18638067],\n",
       "       [ 1.        , -0.17013744],\n",
       "       [ 1.        , -0.15306122],\n",
       "       [ 1.        , -0.13515202],\n",
       "       [ 1.        , -0.11640983],\n",
       "       [ 1.        , -0.09683465],\n",
       "       [ 1.        , -0.07642649],\n",
       "       [ 1.        , -0.05518534],\n",
       "       [ 1.        , -0.0331112 ],\n",
       "       [ 1.        , -0.01020408],\n",
       "       [ 1.        ,  0.01353603],\n",
       "       [ 1.        ,  0.03810912],\n",
       "       [ 1.        ,  0.0635152 ],\n",
       "       [ 1.        ,  0.08975427],\n",
       "       [ 1.        ,  0.11682632],\n",
       "       [ 1.        ,  0.14473136],\n",
       "       [ 1.        ,  0.17346939],\n",
       "       [ 1.        ,  0.2030404 ],\n",
       "       [ 1.        ,  0.2334444 ],\n",
       "       [ 1.        ,  0.26468138],\n",
       "       [ 1.        ,  0.29675135],\n",
       "       [ 1.        ,  0.32965431],\n",
       "       [ 1.        ,  0.36339025],\n",
       "       [ 1.        ,  0.39795918],\n",
       "       [ 1.        ,  0.4333611 ],\n",
       "       [ 1.        ,  0.469596  ],\n",
       "       [ 1.        ,  0.50666389],\n",
       "       [ 1.        ,  0.54456476],\n",
       "       [ 1.        ,  0.58329863],\n",
       "       [ 1.        ,  0.62286547],\n",
       "       [ 1.        ,  0.66326531]])"
      ]
     },
     "execution_count": 233,
     "metadata": {},
     "output_type": "execute_result"
    }
   ],
   "source": [
    "X"
   ]
  },
  {
   "cell_type": "code",
   "execution_count": 237,
   "metadata": {},
   "outputs": [
    {
     "name": "stdout",
     "output_type": "stream",
     "text": [
      "Initial Weights :\n",
      "[[-0.58653806]\n",
      " [ 0.29072008]]\n",
      "Final weights : \n",
      "[[ 1617.        ]\n",
      " [ 4801.99996452]]\n",
      "Final cost :  1.21185848273e-10\n"
     ]
    },
    {
     "data": {
      "image/png": "[encoded data removed]",
      "text/plain": [
       "<matplotlib.figure.Figure at 0x7f778302b110>"
      ]
     },
     "metadata": {},
     "output_type": "display_data"
    }
   ],
   "source": [
    "W = linear_regression(X, y, alpha=0.1, iterations=1000)"
   ]
  },
  {
   "cell_type": "code",
   "execution_count": 207,
   "metadata": {},
   "outputs": [],
   "source": [
    "data = pd.read_csv('kc_house_data.csv', )"
   ]
  },
  {
   "cell_type": "code",
   "execution_count": 208,
   "metadata": {},
   "outputs": [
    {
     "data": {
      "text/html": [
       "<div>\n",
       "<style>\n",
       "    .dataframe thead tr:only-child th {\n",
       "        text-align: right;\n",
       "    }\n",
       "\n",
       "    .dataframe thead th {\n",
       "        text-align: left;\n",
       "    }\n",
       "\n",
       "    .dataframe tbody tr th {\n",
       "        vertical-align: top;\n",
       "    }\n",
       "</style>\n",
       "<table border=\"1\" class=\"dataframe\">\n",
       "  <thead>\n",
       "    <tr style=\"text-align: right;\">\n",
       "      <th></th>\n",
       "      <th>id</th>\n",
       "      <th>date</th>\n",
       "      <th>price</th>\n",
       "      <th>bedrooms</th>\n",
       "      <th>bathrooms</th>\n",
       "      <th>sqft_living</th>\n",
       "      <th>sqft_lot</th>\n",
       "      <th>floors</th>\n",
       "      <th>waterfront</th>\n",
       "      <th>view</th>\n",
       "      <th>...</th>\n",
       "      <th>grade</th>\n",
       "      <th>sqft_above</th>\n",
       "      <th>sqft_basement</th>\n",
       "      <th>yr_built</th>\n",
       "      <th>yr_renovated</th>\n",
       "      <th>zipcode</th>\n",
       "      <th>lat</th>\n",
       "      <th>long</th>\n",
       "      <th>sqft_living15</th>\n",
       "      <th>sqft_lot15</th>\n",
       "    </tr>\n",
       "  </thead>\n",
       "  <tbody>\n",
       "    <tr>\n",
       "      <th>0</th>\n",
       "      <td>7129300520</td>\n",
       "      <td>20141013T000000</td>\n",
       "      <td>221900.0</td>\n",
       "      <td>3</td>\n",
       "      <td>1.00</td>\n",
       "      <td>1180</td>\n",
       "      <td>5650</td>\n",
       "      <td>1.0</td>\n",
       "      <td>0</td>\n",
       "      <td>0</td>\n",
       "      <td>...</td>\n",
       "      <td>7</td>\n",
       "      <td>1180</td>\n",
       "      <td>0</td>\n",
       "      <td>1955</td>\n",
       "      <td>0</td>\n",
       "      <td>98178</td>\n",
       "      <td>47.5112</td>\n",
       "      <td>-122.257</td>\n",
       "      <td>1340</td>\n",
       "      <td>5650</td>\n",
       "    </tr>\n",
       "    <tr>\n",
       "      <th>1</th>\n",
       "      <td>6414100192</td>\n",
       "      <td>20141209T000000</td>\n",
       "      <td>538000.0</td>\n",
       "      <td>3</td>\n",
       "      <td>2.25</td>\n",
       "      <td>2570</td>\n",
       "      <td>7242</td>\n",
       "      <td>2.0</td>\n",
       "      <td>0</td>\n",
       "      <td>0</td>\n",
       "      <td>...</td>\n",
       "      <td>7</td>\n",
       "      <td>2170</td>\n",
       "      <td>400</td>\n",
       "      <td>1951</td>\n",
       "      <td>1991</td>\n",
       "      <td>98125</td>\n",
       "      <td>47.7210</td>\n",
       "      <td>-122.319</td>\n",
       "      <td>1690</td>\n",
       "      <td>7639</td>\n",
       "    </tr>\n",
       "    <tr>\n",
       "      <th>2</th>\n",
       "      <td>5631500400</td>\n",
       "      <td>20150225T000000</td>\n",
       "      <td>180000.0</td>\n",
       "      <td>2</td>\n",
       "      <td>1.00</td>\n",
       "      <td>770</td>\n",
       "      <td>10000</td>\n",
       "      <td>1.0</td>\n",
       "      <td>0</td>\n",
       "      <td>0</td>\n",
       "      <td>...</td>\n",
       "      <td>6</td>\n",
       "      <td>770</td>\n",
       "      <td>0</td>\n",
       "      <td>1933</td>\n",
       "      <td>0</td>\n",
       "      <td>98028</td>\n",
       "      <td>47.7379</td>\n",
       "      <td>-122.233</td>\n",
       "      <td>2720</td>\n",
       "      <td>8062</td>\n",
       "    </tr>\n",
       "    <tr>\n",
       "      <th>3</th>\n",
       "      <td>2487200875</td>\n",
       "      <td>20141209T000000</td>\n",
       "      <td>604000.0</td>\n",
       "      <td>4</td>\n",
       "      <td>3.00</td>\n",
       "      <td>1960</td>\n",
       "      <td>5000</td>\n",
       "      <td>1.0</td>\n",
       "      <td>0</td>\n",
       "      <td>0</td>\n",
       "      <td>...</td>\n",
       "      <td>7</td>\n",
       "      <td>1050</td>\n",
       "      <td>910</td>\n",
       "      <td>1965</td>\n",
       "      <td>0</td>\n",
       "      <td>98136</td>\n",
       "      <td>47.5208</td>\n",
       "      <td>-122.393</td>\n",
       "      <td>1360</td>\n",
       "      <td>5000</td>\n",
       "    </tr>\n",
       "    <tr>\n",
       "      <th>4</th>\n",
       "      <td>1954400510</td>\n",
       "      <td>20150218T000000</td>\n",
       "      <td>510000.0</td>\n",
       "      <td>3</td>\n",
       "      <td>2.00</td>\n",
       "      <td>1680</td>\n",
       "      <td>8080</td>\n",
       "      <td>1.0</td>\n",
       "      <td>0</td>\n",
       "      <td>0</td>\n",
       "      <td>...</td>\n",
       "      <td>8</td>\n",
       "      <td>1680</td>\n",
       "      <td>0</td>\n",
       "      <td>1987</td>\n",
       "      <td>0</td>\n",
       "      <td>98074</td>\n",
       "      <td>47.6168</td>\n",
       "      <td>-122.045</td>\n",
       "      <td>1800</td>\n",
       "      <td>7503</td>\n",
       "    </tr>\n",
       "  </tbody>\n",
       "</table>\n",
       "<p>5 rows × 21 columns</p>\n",
       "</div>"
      ],
      "text/plain": [
       "           id             date     price  bedrooms  bathrooms  sqft_living  \\\n",
       "0  7129300520  20141013T000000  221900.0         3       1.00         1180   \n",
       "1  6414100192  20141209T000000  538000.0         3       2.25         2570   \n",
       "2  5631500400  20150225T000000  180000.0         2       1.00          770   \n",
       "3  2487200875  20141209T000000  604000.0         4       3.00         1960   \n",
       "4  1954400510  20150218T000000  510000.0         3       2.00         1680   \n",
       "\n",
       "   sqft_lot  floors  waterfront  view     ...      grade  sqft_above  \\\n",
       "0      5650     1.0           0     0     ...          7        1180   \n",
       "1      7242     2.0           0     0     ...          7        2170   \n",
       "2     10000     1.0           0     0     ...          6         770   \n",
       "3      5000     1.0           0     0     ...          7        1050   \n",
       "4      8080     1.0           0     0     ...          8        1680   \n",
       "\n",
       "   sqft_basement  yr_built  yr_renovated  zipcode      lat     long  \\\n",
       "0              0      1955             0    98178  47.5112 -122.257   \n",
       "1            400      1951          1991    98125  47.7210 -122.319   \n",
       "2              0      1933             0    98028  47.7379 -122.233   \n",
       "3            910      1965             0    98136  47.5208 -122.393   \n",
       "4              0      1987             0    98074  47.6168 -122.045   \n",
       "\n",
       "   sqft_living15  sqft_lot15  \n",
       "0           1340        5650  \n",
       "1           1690        7639  \n",
       "2           2720        8062  \n",
       "3           1360        5000  \n",
       "4           1800        7503  \n",
       "\n",
       "[5 rows x 21 columns]"
      ]
     },
     "execution_count": 208,
     "metadata": {},
     "output_type": "execute_result"
    }
   ],
   "source": [
    "data.head()"
   ]
  },
  {
   "cell_type": "code",
   "execution_count": 209,
   "metadata": {},
   "outputs": [
    {
     "data": {
      "text/html": [
       "<div>\n",
       "<style>\n",
       "    .dataframe thead tr:only-child th {\n",
       "        text-align: right;\n",
       "    }\n",
       "\n",
       "    .dataframe thead th {\n",
       "        text-align: left;\n",
       "    }\n",
       "\n",
       "    .dataframe tbody tr th {\n",
       "        vertical-align: top;\n",
       "    }\n",
       "</style>\n",
       "<table border=\"1\" class=\"dataframe\">\n",
       "  <thead>\n",
       "    <tr style=\"text-align: right;\">\n",
       "      <th></th>\n",
       "      <th>id</th>\n",
       "      <th>price</th>\n",
       "      <th>bedrooms</th>\n",
       "      <th>bathrooms</th>\n",
       "      <th>sqft_living</th>\n",
       "      <th>sqft_lot</th>\n",
       "      <th>floors</th>\n",
       "      <th>waterfront</th>\n",
       "      <th>view</th>\n",
       "      <th>condition</th>\n",
       "      <th>grade</th>\n",
       "      <th>sqft_above</th>\n",
       "      <th>sqft_basement</th>\n",
       "      <th>yr_built</th>\n",
       "      <th>yr_renovated</th>\n",
       "      <th>zipcode</th>\n",
       "      <th>lat</th>\n",
       "      <th>long</th>\n",
       "      <th>sqft_living15</th>\n",
       "      <th>sqft_lot15</th>\n",
       "    </tr>\n",
       "  </thead>\n",
       "  <tbody>\n",
       "    <tr>\n",
       "      <th>count</th>\n",
       "      <td>2.161300e+04</td>\n",
       "      <td>2.161300e+04</td>\n",
       "      <td>21613.000000</td>\n",
       "      <td>21613.000000</td>\n",
       "      <td>21613.000000</td>\n",
       "      <td>2.161300e+04</td>\n",
       "      <td>21613.000000</td>\n",
       "      <td>21613.000000</td>\n",
       "      <td>21613.000000</td>\n",
       "      <td>21613.000000</td>\n",
       "      <td>21613.000000</td>\n",
       "      <td>21613.000000</td>\n",
       "      <td>21613.000000</td>\n",
       "      <td>21613.000000</td>\n",
       "      <td>21613.000000</td>\n",
       "      <td>21613.000000</td>\n",
       "      <td>21613.000000</td>\n",
       "      <td>21613.000000</td>\n",
       "      <td>21613.000000</td>\n",
       "      <td>21613.000000</td>\n",
       "    </tr>\n",
       "    <tr>\n",
       "      <th>mean</th>\n",
       "      <td>4.580302e+09</td>\n",
       "      <td>5.400881e+05</td>\n",
       "      <td>3.370842</td>\n",
       "      <td>2.114757</td>\n",
       "      <td>2079.899736</td>\n",
       "      <td>1.510697e+04</td>\n",
       "      <td>1.494309</td>\n",
       "      <td>0.007542</td>\n",
       "      <td>0.234303</td>\n",
       "      <td>3.409430</td>\n",
       "      <td>7.656873</td>\n",
       "      <td>1788.390691</td>\n",
       "      <td>291.509045</td>\n",
       "      <td>1971.005136</td>\n",
       "      <td>84.402258</td>\n",
       "      <td>98077.939805</td>\n",
       "      <td>47.560053</td>\n",
       "      <td>-122.213896</td>\n",
       "      <td>1986.552492</td>\n",
       "      <td>12768.455652</td>\n",
       "    </tr>\n",
       "    <tr>\n",
       "      <th>std</th>\n",
       "      <td>2.876566e+09</td>\n",
       "      <td>3.671272e+05</td>\n",
       "      <td>0.930062</td>\n",
       "      <td>0.770163</td>\n",
       "      <td>918.440897</td>\n",
       "      <td>4.142051e+04</td>\n",
       "      <td>0.539989</td>\n",
       "      <td>0.086517</td>\n",
       "      <td>0.766318</td>\n",
       "      <td>0.650743</td>\n",
       "      <td>1.175459</td>\n",
       "      <td>828.090978</td>\n",
       "      <td>442.575043</td>\n",
       "      <td>29.373411</td>\n",
       "      <td>401.679240</td>\n",
       "      <td>53.505026</td>\n",
       "      <td>0.138564</td>\n",
       "      <td>0.140828</td>\n",
       "      <td>685.391304</td>\n",
       "      <td>27304.179631</td>\n",
       "    </tr>\n",
       "    <tr>\n",
       "      <th>min</th>\n",
       "      <td>1.000102e+06</td>\n",
       "      <td>7.500000e+04</td>\n",
       "      <td>0.000000</td>\n",
       "      <td>0.000000</td>\n",
       "      <td>290.000000</td>\n",
       "      <td>5.200000e+02</td>\n",
       "      <td>1.000000</td>\n",
       "      <td>0.000000</td>\n",
       "      <td>0.000000</td>\n",
       "      <td>1.000000</td>\n",
       "      <td>1.000000</td>\n",
       "      <td>290.000000</td>\n",
       "      <td>0.000000</td>\n",
       "      <td>1900.000000</td>\n",
       "      <td>0.000000</td>\n",
       "      <td>98001.000000</td>\n",
       "      <td>47.155900</td>\n",
       "      <td>-122.519000</td>\n",
       "      <td>399.000000</td>\n",
       "      <td>651.000000</td>\n",
       "    </tr>\n",
       "    <tr>\n",
       "      <th>25%</th>\n",
       "      <td>2.123049e+09</td>\n",
       "      <td>3.219500e+05</td>\n",
       "      <td>3.000000</td>\n",
       "      <td>1.750000</td>\n",
       "      <td>1427.000000</td>\n",
       "      <td>5.040000e+03</td>\n",
       "      <td>1.000000</td>\n",
       "      <td>0.000000</td>\n",
       "      <td>0.000000</td>\n",
       "      <td>3.000000</td>\n",
       "      <td>7.000000</td>\n",
       "      <td>1190.000000</td>\n",
       "      <td>0.000000</td>\n",
       "      <td>1951.000000</td>\n",
       "      <td>0.000000</td>\n",
       "      <td>98033.000000</td>\n",
       "      <td>47.471000</td>\n",
       "      <td>-122.328000</td>\n",
       "      <td>1490.000000</td>\n",
       "      <td>5100.000000</td>\n",
       "    </tr>\n",
       "    <tr>\n",
       "      <th>50%</th>\n",
       "      <td>3.904930e+09</td>\n",
       "      <td>4.500000e+05</td>\n",
       "      <td>3.000000</td>\n",
       "      <td>2.250000</td>\n",
       "      <td>1910.000000</td>\n",
       "      <td>7.618000e+03</td>\n",
       "      <td>1.500000</td>\n",
       "      <td>0.000000</td>\n",
       "      <td>0.000000</td>\n",
       "      <td>3.000000</td>\n",
       "      <td>7.000000</td>\n",
       "      <td>1560.000000</td>\n",
       "      <td>0.000000</td>\n",
       "      <td>1975.000000</td>\n",
       "      <td>0.000000</td>\n",
       "      <td>98065.000000</td>\n",
       "      <td>47.571800</td>\n",
       "      <td>-122.230000</td>\n",
       "      <td>1840.000000</td>\n",
       "      <td>7620.000000</td>\n",
       "    </tr>\n",
       "    <tr>\n",
       "      <th>75%</th>\n",
       "      <td>7.308900e+09</td>\n",
       "      <td>6.450000e+05</td>\n",
       "      <td>4.000000</td>\n",
       "      <td>2.500000</td>\n",
       "      <td>2550.000000</td>\n",
       "      <td>1.068800e+04</td>\n",
       "      <td>2.000000</td>\n",
       "      <td>0.000000</td>\n",
       "      <td>0.000000</td>\n",
       "      <td>4.000000</td>\n",
       "      <td>8.000000</td>\n",
       "      <td>2210.000000</td>\n",
       "      <td>560.000000</td>\n",
       "      <td>1997.000000</td>\n",
       "      <td>0.000000</td>\n",
       "      <td>98118.000000</td>\n",
       "      <td>47.678000</td>\n",
       "      <td>-122.125000</td>\n",
       "      <td>2360.000000</td>\n",
       "      <td>10083.000000</td>\n",
       "    </tr>\n",
       "    <tr>\n",
       "      <th>max</th>\n",
       "      <td>9.900000e+09</td>\n",
       "      <td>7.700000e+06</td>\n",
       "      <td>33.000000</td>\n",
       "      <td>8.000000</td>\n",
       "      <td>13540.000000</td>\n",
       "      <td>1.651359e+06</td>\n",
       "      <td>3.500000</td>\n",
       "      <td>1.000000</td>\n",
       "      <td>4.000000</td>\n",
       "      <td>5.000000</td>\n",
       "      <td>13.000000</td>\n",
       "      <td>9410.000000</td>\n",
       "      <td>4820.000000</td>\n",
       "      <td>2015.000000</td>\n",
       "      <td>2015.000000</td>\n",
       "      <td>98199.000000</td>\n",
       "      <td>47.777600</td>\n",
       "      <td>-121.315000</td>\n",
       "      <td>6210.000000</td>\n",
       "      <td>871200.000000</td>\n",
       "    </tr>\n",
       "  </tbody>\n",
       "</table>\n",
       "</div>"
      ],
      "text/plain": [
       "                 id         price      bedrooms     bathrooms   sqft_living  \\\n",
       "count  2.161300e+04  2.161300e+04  21613.000000  21613.000000  21613.000000   \n",
       "mean   4.580302e+09  5.400881e+05      3.370842      2.114757   2079.899736   \n",
       "std    2.876566e+09  3.671272e+05      0.930062      0.770163    918.440897   \n",
       "min    1.000102e+06  7.500000e+04      0.000000      0.000000    290.000000   \n",
       "25%    2.123049e+09  3.219500e+05      3.000000      1.750000   1427.000000   \n",
       "50%    3.904930e+09  4.500000e+05      3.000000      2.250000   1910.000000   \n",
       "75%    7.308900e+09  6.450000e+05      4.000000      2.500000   2550.000000   \n",
       "max    9.900000e+09  7.700000e+06     33.000000      8.000000  13540.000000   \n",
       "\n",
       "           sqft_lot        floors    waterfront          view     condition  \\\n",
       "count  2.161300e+04  21613.000000  21613.000000  21613.000000  21613.000000   \n",
       "mean   1.510697e+04      1.494309      0.007542      0.234303      3.409430   \n",
       "std    4.142051e+04      0.539989      0.086517      0.766318      0.650743   \n",
       "min    5.200000e+02      1.000000      0.000000      0.000000      1.000000   \n",
       "25%    5.040000e+03      1.000000      0.000000      0.000000      3.000000   \n",
       "50%    7.618000e+03      1.500000      0.000000      0.000000      3.000000   \n",
       "75%    1.068800e+04      2.000000      0.000000      0.000000      4.000000   \n",
       "max    1.651359e+06      3.500000      1.000000      4.000000      5.000000   \n",
       "\n",
       "              grade    sqft_above  sqft_basement      yr_built  yr_renovated  \\\n",
       "count  21613.000000  21613.000000   21613.000000  21613.000000  21613.000000   \n",
       "mean       7.656873   1788.390691     291.509045   1971.005136     84.402258   \n",
       "std        1.175459    828.090978     442.575043     29.373411    401.679240   \n",
       "min        1.000000    290.000000       0.000000   1900.000000      0.000000   \n",
       "25%        7.000000   1190.000000       0.000000   1951.000000      0.000000   \n",
       "50%        7.000000   1560.000000       0.000000   1975.000000      0.000000   \n",
       "75%        8.000000   2210.000000     560.000000   1997.000000      0.000000   \n",
       "max       13.000000   9410.000000    4820.000000   2015.000000   2015.000000   \n",
       "\n",
       "            zipcode           lat          long  sqft_living15     sqft_lot15  \n",
       "count  21613.000000  21613.000000  21613.000000   21613.000000   21613.000000  \n",
       "mean   98077.939805     47.560053   -122.213896    1986.552492   12768.455652  \n",
       "std       53.505026      0.138564      0.140828     685.391304   27304.179631  \n",
       "min    98001.000000     47.155900   -122.519000     399.000000     651.000000  \n",
       "25%    98033.000000     47.471000   -122.328000    1490.000000    5100.000000  \n",
       "50%    98065.000000     47.571800   -122.230000    1840.000000    7620.000000  \n",
       "75%    98118.000000     47.678000   -122.125000    2360.000000   10083.000000  \n",
       "max    98199.000000     47.777600   -121.315000    6210.000000  871200.000000  "
      ]
     },
     "execution_count": 209,
     "metadata": {},
     "output_type": "execute_result"
    }
   ],
   "source": [
    "data.describe()"
   ]
  },
  {
   "cell_type": "code",
   "execution_count": 210,
   "metadata": {},
   "outputs": [],
   "source": [
    "y = np.array(data['price'].astype(float))\n",
    "X = np.array(data[['sqft_living' , 'sqft_lot']].astype(float))\n",
    "n = X.shape[0]"
   ]
  },
  {
   "cell_type": "code",
   "execution_count": 211,
   "metadata": {},
   "outputs": [
    {
     "data": {
      "text/plain": [
       "(21613, 2)"
      ]
     },
     "execution_count": 211,
     "metadata": {},
     "output_type": "execute_result"
    }
   ],
   "source": [
    "X.shape"
   ]
  },
  {
   "cell_type": "code",
   "execution_count": 212,
   "metadata": {},
   "outputs": [
    {
     "data": {
      "text/plain": [
       "(21613,)"
      ]
     },
     "execution_count": 212,
     "metadata": {},
     "output_type": "execute_result"
    }
   ],
   "source": [
    "y.shape"
   ]
  },
  {
   "cell_type": "code",
   "execution_count": 213,
   "metadata": {},
   "outputs": [
    {
     "data": {
      "text/plain": [
       "array([[  1180.,   5650.],\n",
       "       [  2570.,   7242.],\n",
       "       [   770.,  10000.],\n",
       "       [  1960.,   5000.],\n",
       "       [  1680.,   8080.]])"
      ]
     },
     "execution_count": 213,
     "metadata": {},
     "output_type": "execute_result"
    }
   ],
   "source": [
    "X[:5,:]"
   ]
  },
  {
   "cell_type": "code",
   "execution_count": 214,
   "metadata": {},
   "outputs": [],
   "source": [
    "y = y.reshape((-1,1))"
   ]
  },
  {
   "cell_type": "code",
   "execution_count": 215,
   "metadata": {},
   "outputs": [],
   "source": [
    "for i in range(2):\n",
    "    X[:,i] = (X[:,i] - X[:,i].mean())/(X[:,i].max() - X[:,i].min())"
   ]
  },
  {
   "cell_type": "code",
   "execution_count": 216,
   "metadata": {},
   "outputs": [],
   "source": [
    "X = np.hstack((np.ones((n,1)), X))"
   ]
  },
  {
   "cell_type": "code",
   "execution_count": 217,
   "metadata": {},
   "outputs": [
    {
     "name": "stdout",
     "output_type": "stream",
     "text": [
      "(21000, 3)\n",
      "(21000, 1)\n",
      "(613, 3)\n",
      "(613, 1)\n"
     ]
    }
   ],
   "source": [
    "X_train = X[:21000,:]\n",
    "X_test = X[21000:,:]\n",
    "\n",
    "y_train = y[:21000,:]\n",
    "y_test = y[21000:,:]\n",
    "\n",
    "n_train = X_train.shape[0]\n",
    "n_test = X_test.shape[0]\n",
    "print X_train.shape\n",
    "print y_train.shape\n",
    "print X_test.shape\n",
    "print y_test.shape"
   ]
  },
  {
   "cell_type": "code",
   "execution_count": 218,
   "metadata": {},
   "outputs": [],
   "source": [
    "def rmse(y_hat, y):\n",
    "    return np.sqrt( np.sum( (y_hat - y)**2 ) / y.shape[0] )"
   ]
  },
  {
   "cell_type": "code",
   "execution_count": 219,
   "metadata": {},
   "outputs": [
    {
     "data": {
      "image/png": "[encoded data removed]",
      "text/plain": [
       "<matplotlib.figure.Figure at 0x7f77833e9410>"
      ]
     },
     "metadata": {},
     "output_type": "display_data"
    },
    {
     "name": "stdout",
     "output_type": "stream",
     "text": [
      "Training Error :  261220.808574\n",
      "Test Error :  268942.143229\n"
     ]
    }
   ],
   "source": [
    "W = linear_regression(X_train[:,0:2], y_train, alpha=0.1, iterations=10000, verbose=False)\n",
    "y_hat_train = np.dot(X_train[:,0:2],W)\n",
    "print \"Training Error : \", rmse(y_hat_train, y_train)\n",
    "y_hat_test = np.dot(X_test[:,0:2],W)\n",
    "print \"Test Error : \", rmse(y_hat_test, y_test)"
   ]
  },
  {
   "cell_type": "code",
   "execution_count": 220,
   "metadata": {},
   "outputs": [
    {
     "data": {
      "image/png": "[encoded data removed]",
      "text/plain": [
       "<matplotlib.figure.Figure at 0x7f7782fdc210>"
      ]
     },
     "metadata": {},
     "output_type": "display_data"
    },
    {
     "name": "stdout",
     "output_type": "stream",
     "text": [
      "Training Error :  260992.524428\n",
      "Test Error :  269121.425823\n"
     ]
    }
   ],
   "source": [
    "W = linear_regression(X_train, y_train, alpha=0.1, iterations=10000, verbose=False)\n",
    "y_hat_train = np.dot(X_train,W)\n",
    "print \"Training Error : \", rmse(y_hat_train, y_train)\n",
    "y_hat_test = np.dot(X_test,W)\n",
    "print \"Test Error : \", rmse(y_hat_test, y_test)"
   ]
  },
  {
   "cell_type": "code",
   "execution_count": 221,
   "metadata": {},
   "outputs": [
    {
     "name": "stdout",
     "output_type": "stream",
     "text": [
      "(21000, 4)\n",
      "(21000, 1)\n",
      "(613, 4)\n",
      "(613, 1)\n"
     ]
    }
   ],
   "source": [
    "X = np.hstack((X , (X[:,1]**2).reshape((n,1))))\n",
    "X_train = X[:21000,:]\n",
    "X_test = X[21000:,:]\n",
    "\n",
    "y_train = y[:21000,:]\n",
    "y_test = y[21000:,:]\n",
    "\n",
    "n_train = X_train.shape[0]\n",
    "n_test = X_test.shape[0]\n",
    "print X_train.shape\n",
    "print y_train.shape\n",
    "print X_test.shape\n",
    "print y_test.shape"
   ]
  },
  {
   "cell_type": "code",
   "execution_count": 222,
   "metadata": {},
   "outputs": [
    {
     "data": {
      "image/png": "[encoded data removed]",
      "text/plain": [
       "<matplotlib.figure.Figure at 0x7f7783046b90>"
      ]
     },
     "metadata": {},
     "output_type": "display_data"
    },
    {
     "name": "stdout",
     "output_type": "stream",
     "text": [
      "Training Error :  256330.703016\n",
      "Test Error :  265506.518607\n"
     ]
    }
   ],
   "source": [
    "W = linear_regression(X_train, y_train, alpha=0.1, iterations=10000, verbose=False)\n",
    "y_hat_train = np.dot(X_train,W)\n",
    "print \"Training Error : \", rmse(y_hat_train, y_train)\n",
    "y_hat_test = np.dot(X_test,W)\n",
    "print \"Test Error : \", rmse(y_hat_test, y_test)"
   ]
  },
  {
   "cell_type": "code",
   "execution_count": 223,
   "metadata": {},
   "outputs": [
    {
     "name": "stdout",
     "output_type": "stream",
     "text": [
      "(21000, 5)\n",
      "(21000, 1)\n",
      "(613, 5)\n",
      "(613, 1)\n"
     ]
    }
   ],
   "source": [
    "X = np.hstack((X , (X[:,1]*X[:,2]).reshape(n,1)))\n",
    "X_train = X[:21000,:]\n",
    "X_test = X[21000:,:]\n",
    "\n",
    "y_train = y[:21000,:]\n",
    "y_test = y[21000:,:]\n",
    "\n",
    "n_train = X_train.shape[0]\n",
    "n_test = X_test.shape[0]\n",
    "print X_train.shape\n",
    "print y_train.shape\n",
    "print X_test.shape\n",
    "print y_test.shape"
   ]
  },
  {
   "cell_type": "code",
   "execution_count": 224,
   "metadata": {},
   "outputs": [
    {
     "data": {
      "image/png": "[encoded data removed]",
      "text/plain": [
       "<matplotlib.figure.Figure at 0x7f7782c61a50>"
      ]
     },
     "metadata": {},
     "output_type": "display_data"
    },
    {
     "name": "stdout",
     "output_type": "stream",
     "text": [
      "Training Error :  249981.308788\n",
      "Test Error :  260231.830917\n"
     ]
    }
   ],
   "source": [
    "W = linear_regression(X_train, y_train, alpha=0.1, iterations=100000, verbose=False)\n",
    "y_hat_train = np.dot(X_train,W)\n",
    "print \"Training Error : \", rmse(y_hat_train, y_train)\n",
    "y_hat_test = np.dot(X_test,W)\n",
    "print \"Test Error : \", rmse(y_hat_test, y_test)"
   ]
  },
  {
   "cell_type": "code",
   "execution_count": null,
   "metadata": {},
   "outputs": [],
   "source": []
  }
 ],
 "metadata": {
  "kernelspec": {
   "display_name": "Python 2",
   "language": "python",
   "name": "python2"
  },
  "language_info": {
   "codemirror_mode": {
    "name": "ipython",
    "version": 2
   },
   "file_extension": ".py",
   "mimetype": "text/x-python",
   "name": "python",
   "nbconvert_exporter": "python",
   "pygments_lexer": "ipython2",
   "version": "2.7.12"
  }
 },
 "nbformat": 4,
 "nbformat_minor": 2
}
