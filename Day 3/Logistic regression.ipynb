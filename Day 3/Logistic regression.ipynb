{
 "cells": [
  {
   "cell_type": "markdown",
   "metadata": {},
   "source": [
    "## Classification : Logistic Regression"
   ]
  },
  {
   "cell_type": "markdown",
   "metadata": {},
   "source": [
    "Using Logistic regression we try to classify the dataset into 'K' number of classes"
   ]
  },
  {
   "cell_type": "code",
   "execution_count": 118,
   "metadata": {},
   "outputs": [],
   "source": [
    "import numpy as np\n",
    "import pandas as pd\n",
    "import matplotlib.pyplot as plt\n",
    "np.random.seed(10)\n",
    "%matplotlib inline"
   ]
  },
  {
   "cell_type": "markdown",
   "metadata": {},
   "source": [
    "### Binary Classification"
   ]
  },
  {
   "cell_type": "code",
   "execution_count": 119,
   "metadata": {},
   "outputs": [],
   "source": [
    "X = np.array([ [1,1] , [4,5] , [5,4] , [6,3] , [1,2] , [7,4] , [2,1] , [1,2.5] , [8,7] , [3,1] , [5,7] , [4,5]])\n",
    "y = np.array([0, 1 , 1 , 1, 0, 1, 0, 0, 1, 0, 1, 0])\n",
    "n = X.shape[0]\n",
    "y = y.reshape((n,1))"
   ]
  },
  {
   "cell_type": "code",
   "execution_count": 120,
   "metadata": {},
   "outputs": [
    {
     "data": {
      "image/png": "[encoded data removed]",
      "text/plain": [
       "<matplotlib.figure.Figure at 0x7fc8157bfdd0>"
      ]
     },
     "metadata": {},
     "output_type": "display_data"
    }
   ],
   "source": [
    "plt.scatter((X[y[:,0]==1])[:,0], (X[y[:,0]==1])[:,1], color=\"red\", label=\"Class1\")\n",
    "plt.scatter((X[y[:,0]==0])[:,0], (X[y[:,0]==0])[:,1], color=\"blue\", label=\"Class0\")\n",
    "plt.xlabel(\"X[0]\")\n",
    "plt.ylabel(\"X[1]\")\n",
    "plt.legend()\n",
    "plt.show()"
   ]
  },
  {
   "cell_type": "markdown",
   "metadata": {},
   "source": [
    "### Hypothesis function"
   ]
  },
  {
   "cell_type": "markdown",
   "metadata": {},
   "source": [
    "$$\\widehat{y} = g(w_{0}x_{0} + w_{1}x_{1} + w_{2}x_{2} + ........ + w_{m}x_{m})$$\n",
    "\n",
    "$g(z) = \\frac{1}{1 + e^{-z}}$\n",
    "\n",
    "$g(z)\\ is\\ known\\ as\\ the\\ Sigmoid\\ Function$\n",
    "\n",
    "$\\widehat{y} = The\\ output\\ predicted\\ by\\ our\\ model$\n",
    "\n",
    "$m = Number\\ of\\ features$\n",
    "\n",
    "$w_{0}$\n",
    ",\n",
    "$w_{1}$\n",
    ".....\n",
    "$w_{m}$\n",
    "$= The\\ coefficients\\ of\\ the\\ features\\ ,also\\ known\\ as\\ weights.\\ (We\\ need\\ to\\ adjust\\ the\\ values\\ of\\ these\\ coefficients)$\n",
    "\n",
    "$x_{1}$\n",
    ",\n",
    "$x_{2}$\n",
    ".....\n",
    "$x_{m}$\n",
    "$= The\\ input\\ feature\\ value$\n",
    "\n",
    "$x_{0} = Bias\\ term\\ (Usually\\ equal\\ to\\ 1)$"
   ]
  },
  {
   "cell_type": "code",
   "execution_count": 121,
   "metadata": {},
   "outputs": [
    {
     "data": {
      "image/png": "[encoded data removed]",
      "text/plain": [
       "<matplotlib.figure.Figure at 0x7fc815653050>"
      ]
     },
     "metadata": {},
     "output_type": "display_data"
    }
   ],
   "source": [
    "_x = np.linspace(-10,10,1000)\n",
    "_y = 1.0/(1 + np.exp(-_x))\n",
    "plt.plot(_x,_y)\n",
    "plt.show()"
   ]
  },
  {
   "cell_type": "markdown",
   "metadata": {},
   "source": [
    "### Cost function : Log loss"
   ]
  },
  {
   "cell_type": "markdown",
   "metadata": {},
   "source": [
    "$For\\ Binary\\ Classification$\n",
    "\n",
    "$$J(W) = - \\frac{1}{n}\\sum_{i=1}^{n}(\\  y_{i}\\log(\\widehat {y_{i}} + \\epsilon) \\  + (1-y_{i})\\log(1-\\widehat {y_{i}} + \\epsilon) \\ )$$\n",
    "\n",
    "$J(W) = Cost\\ Function$\n",
    "\n",
    "$n = Number\\ of\\ data\\ points$\n",
    "\n",
    "$y_{i} = Actual\\ output$\n",
    "\n",
    "$\\widehat{y_{i}} = Predicted\\ output$\n",
    "\n",
    "$W = Weights\\ vector$\n",
    "\n",
    "$\\epsilon = A\\ small\\ number\\ to\\ prevent\\ overflow\\ at\\ the\\ extremeties$"
   ]
  },
  {
   "cell_type": "markdown",
   "metadata": {},
   "source": [
    "### Optimization : Gradient Descent"
   ]
  },
  {
   "cell_type": "markdown",
   "metadata": {},
   "source": [
    "$One\\ step\\ of\\ Gradient\\ Descent\\ is\\ :\\ $\n",
    "\n",
    "$For\\ all\\ weights\\ j : $\n",
    "\n",
    "$$w_{j} = w_{j} -  \\alpha \\frac{\\partial }{\\partial w_{j}} J(W)$$\n",
    "\n",
    "$\\alpha = Learning\\ rate$\n",
    "\n",
    "$\\frac{\\partial }{\\partial w_{j}} J(W)\\ \\ \\ = \\ \\ \\ Partial\\ derivative\\ of\\ loss\\ function\\ \\ w.r.t\\ \\ w_{j} \\ \\ \\ = \\ \\ \\ \\ \\frac{1}{n}\\sum_{i=1}^{n}(\\widehat{y_{i}}-y_{i})x_{j}^{(i)}$ \n",
    "\n",
    "$\\therefore For\\ all\\ weights\\ j : $\n",
    "\n",
    "$$w_{j} = w_{j} -  \\alpha \\frac{1}{n}\\sum_{i=1}^{n}(\\widehat{y_{i}}-y_{i})x_{j}^{(i)}$$"
   ]
  },
  {
   "cell_type": "code",
   "execution_count": 122,
   "metadata": {},
   "outputs": [
    {
     "data": {
      "text/plain": [
       "(12, 2)"
      ]
     },
     "execution_count": 122,
     "metadata": {},
     "output_type": "execute_result"
    }
   ],
   "source": [
    "X.shape"
   ]
  },
  {
   "cell_type": "code",
   "execution_count": 123,
   "metadata": {},
   "outputs": [
    {
     "data": {
      "text/plain": [
       "(12, 1)"
      ]
     },
     "execution_count": 123,
     "metadata": {},
     "output_type": "execute_result"
    }
   ],
   "source": [
    "y.shape"
   ]
  },
  {
   "cell_type": "code",
   "execution_count": 124,
   "metadata": {},
   "outputs": [],
   "source": [
    "X = np.hstack( (np.ones((n,1)).reshape(n,1) , X) )"
   ]
  },
  {
   "cell_type": "code",
   "execution_count": 125,
   "metadata": {},
   "outputs": [
    {
     "data": {
      "text/plain": [
       "(12, 3)"
      ]
     },
     "execution_count": 125,
     "metadata": {},
     "output_type": "execute_result"
    }
   ],
   "source": [
    "X.shape"
   ]
  },
  {
   "cell_type": "code",
   "execution_count": 126,
   "metadata": {},
   "outputs": [
    {
     "data": {
      "text/plain": [
       "(12, 1)"
      ]
     },
     "execution_count": 126,
     "metadata": {},
     "output_type": "execute_result"
    }
   ],
   "source": [
    "y.shape"
   ]
  },
  {
   "cell_type": "code",
   "execution_count": 127,
   "metadata": {},
   "outputs": [],
   "source": [
    "W = np.random.randn(3,1)"
   ]
  },
  {
   "cell_type": "code",
   "execution_count": 128,
   "metadata": {},
   "outputs": [
    {
     "data": {
      "text/plain": [
       "array([[ 1.3315865 ],\n",
       "       [ 0.71527897],\n",
       "       [-1.54540029]])"
      ]
     },
     "execution_count": 128,
     "metadata": {},
     "output_type": "execute_result"
    }
   ],
   "source": [
    "W"
   ]
  },
  {
   "cell_type": "code",
   "execution_count": 129,
   "metadata": {},
   "outputs": [
    {
     "data": {
      "image/png": "[encoded data removed]",
      "text/plain": [
       "<matplotlib.figure.Figure at 0x7fc8158d9c50>"
      ]
     },
     "metadata": {},
     "output_type": "display_data"
    }
   ],
   "source": [
    "#ploting decison boundary\n",
    "_X = X[:,1]\n",
    "_y = (- W[0,:] - W[1,:] * _X)/(W[2,:])\n",
    "plt.plot(_X, _y, color=\"black\")\n",
    "plt.scatter((X[y[:,0]==1])[:,1], (X[y[:,0]==1])[:,2], color=\"red\", label=\"Class1\")\n",
    "plt.scatter((X[y[:,0]==0])[:,1], (X[y[:,0]==0])[:,2], color=\"blue\", label=\"Class0\")\n",
    "plt.xlabel(\"X[0]\")\n",
    "plt.ylabel(\"X[1]\")\n",
    "plt.legend()\n",
    "plt.show()"
   ]
  },
  {
   "cell_type": "code",
   "execution_count": 130,
   "metadata": {},
   "outputs": [],
   "source": [
    "def sigmoid(X):\n",
    "    return 1.0/(1 + np.exp(-X))"
   ]
  },
  {
   "cell_type": "code",
   "execution_count": 164,
   "metadata": {},
   "outputs": [
    {
     "data": {
      "text/plain": [
       "(1, 3)"
      ]
     },
     "execution_count": 164,
     "metadata": {},
     "output_type": "execute_result"
    }
   ],
   "source": [
    "sigmoid(np.array([[1,2,3]])).shape"
   ]
  },
  {
   "cell_type": "code",
   "execution_count": 131,
   "metadata": {},
   "outputs": [],
   "source": [
    "def predict(X, W):\n",
    "    return sigmoid(np.dot(X,W))"
   ]
  },
  {
   "cell_type": "code",
   "execution_count": 132,
   "metadata": {},
   "outputs": [],
   "source": [
    "y_hat = predict(X,W)"
   ]
  },
  {
   "cell_type": "code",
   "execution_count": 133,
   "metadata": {},
   "outputs": [
    {
     "data": {
      "text/plain": [
       "(12, 3)"
      ]
     },
     "execution_count": 133,
     "metadata": {},
     "output_type": "execute_result"
    }
   ],
   "source": [
    "X.shape"
   ]
  },
  {
   "cell_type": "code",
   "execution_count": 134,
   "metadata": {},
   "outputs": [
    {
     "data": {
      "text/plain": [
       "(3, 1)"
      ]
     },
     "execution_count": 134,
     "metadata": {},
     "output_type": "execute_result"
    }
   ],
   "source": [
    "W.shape"
   ]
  },
  {
   "cell_type": "code",
   "execution_count": 135,
   "metadata": {},
   "outputs": [
    {
     "data": {
      "text/plain": [
       "array([[ 0.62280359],\n",
       "       [ 0.02835192],\n",
       "       [ 0.21863823],\n",
       "       [ 0.72850672],\n",
       "       [ 0.26039143],\n",
       "       [ 0.53915421],\n",
       "       [ 0.77149007],\n",
       "       [ 0.13983811],\n",
       "       [ 0.02266553],\n",
       "       [ 0.87347318],\n",
       "       [ 0.00270533],\n",
       "       [ 0.02835192]])"
      ]
     },
     "execution_count": 135,
     "metadata": {},
     "output_type": "execute_result"
    }
   ],
   "source": [
    "y_hat"
   ]
  },
  {
   "cell_type": "code",
   "execution_count": 136,
   "metadata": {},
   "outputs": [],
   "source": [
    "def cost_function(y_hat, y, eps=1e-8):\n",
    "    ret = -( np.sum( y * np.log(y_hat + eps) + (1-y) * np.log(1 - y_hat + eps) ))/n\n",
    "    return ret\n"
   ]
  },
  {
   "cell_type": "code",
   "execution_count": 137,
   "metadata": {},
   "outputs": [],
   "source": [
    "cost = cost_function(y_hat, y)"
   ]
  },
  {
   "cell_type": "code",
   "execution_count": 138,
   "metadata": {},
   "outputs": [
    {
     "name": "stdout",
     "output_type": "stream",
     "text": [
      "1.72640340512\n"
     ]
    }
   ],
   "source": [
    "print cost"
   ]
  },
  {
   "cell_type": "code",
   "execution_count": 139,
   "metadata": {},
   "outputs": [],
   "source": [
    "def gradient_descent(W, y_hat, y, X, alpha=0.01):\n",
    "    W_new = W - alpha * (1.0/n) * np.dot(np.transpose(X),(y_hat - y))\n",
    "    return W_new"
   ]
  },
  {
   "cell_type": "code",
   "execution_count": 140,
   "metadata": {},
   "outputs": [
    {
     "data": {
      "text/plain": [
       "array([[ 1.3315865 ],\n",
       "       [ 0.71527897],\n",
       "       [-1.54540029]])"
      ]
     },
     "execution_count": 140,
     "metadata": {},
     "output_type": "execute_result"
    }
   ],
   "source": [
    "W"
   ]
  },
  {
   "cell_type": "code",
   "execution_count": 141,
   "metadata": {},
   "outputs": [],
   "source": [
    "W_new = W"
   ]
  },
  {
   "cell_type": "code",
   "execution_count": 142,
   "metadata": {},
   "outputs": [],
   "source": [
    "\n",
    "W_new = gradient_descent(W_new, y_hat, y, X)"
   ]
  },
  {
   "cell_type": "code",
   "execution_count": 143,
   "metadata": {},
   "outputs": [
    {
     "data": {
      "text/plain": [
       "1.6677893005308639"
      ]
     },
     "execution_count": 143,
     "metadata": {},
     "output_type": "execute_result"
    }
   ],
   "source": [
    "y_hat = predict(X, W_new)\n",
    "cost_function(y_hat, y)"
   ]
  },
  {
   "cell_type": "code",
   "execution_count": 144,
   "metadata": {},
   "outputs": [
    {
     "data": {
      "image/png": "[encoded data removed]",
      "text/plain": [
       "<matplotlib.figure.Figure at 0x7fc8158c6490>"
      ]
     },
     "metadata": {},
     "output_type": "display_data"
    }
   ],
   "source": [
    "_X = X[:,1]\n",
    "_y = (- W_new[0,:] - W_new[1,:] * _X)/(W_new[2,:])\n",
    "plt.plot(_X, _y, color=\"black\")\n",
    "plt.scatter((X[y[:,0]==1])[:,1], (X[y[:,0]==1])[:,2], color=\"red\", label=\"Class1\")\n",
    "plt.scatter((X[y[:,0]==0])[:,1], (X[y[:,0]==0])[:,2], color=\"blue\", label=\"Class0\")\n",
    "plt.xlabel(\"X[0]\")\n",
    "plt.ylabel(\"X[1]\")\n",
    "plt.legend()\n",
    "plt.show()"
   ]
  },
  {
   "cell_type": "code",
   "execution_count": 145,
   "metadata": {},
   "outputs": [],
   "source": [
    "def binary_logistic_regression(X, y, iterations=1000, alpha=0.01, verbose=True, eps=1e-5, plot=True):\n",
    "    n_samples = X.shape[0]\n",
    "    n_features = X.shape[1]\n",
    "    costs = []\n",
    "    W = np.random.randn(n_features,1)\n",
    "    if(verbose):\n",
    "        print \"Initial Weights :\"\n",
    "        print W\n",
    "    for i in range(iterations):\n",
    "        y_hat = sigmoid(np.dot(X,W))\n",
    "        cost = -( np.sum( y * np.log(y_hat + eps) + (1-y) * np.log(1 - y_hat + eps) ))/n_samples\n",
    "        costs.append(cost)\n",
    "        W = W - alpha * (1.0/n_samples) * np.dot(np.transpose(X),(y_hat - y))\n",
    "    if(verbose):\n",
    "        print \"Final weights : \"\n",
    "        print W\n",
    "        print \"Final cost : \", costs[iterations-1]\n",
    "    y_hat = np.dot(X,W)\n",
    "    \n",
    "    #ploting cost and resultant graphs \n",
    "    if(plot==True):\n",
    "        f, (ax1,ax2) = plt.subplots(1,2, figsize=(15,8))\n",
    "        ax1.plot(range(iterations), costs)\n",
    "        ax1.set_xlabel(\"Iterations\")\n",
    "        ax1.set_ylabel(\"Cost\")\n",
    "        if(n_features==3):\n",
    "            ax2.set_ylim([min(X[:,2])-2,max(X[:,2])+2])\n",
    "            _X = X[:,1]\n",
    "            _y = (- W[0,:] - W[1,:] * _X)/(W[2,:])\n",
    "            ax2.plot(_X, _y, color=\"black\")\n",
    "            ax2.scatter((X[y[:,0]==1])[:,1], (X[y[:,0]==1])[:,2], color=\"red\", label=\"Class1\")\n",
    "            ax2.scatter((X[y[:,0]==0])[:,1], (X[y[:,0]==0])[:,2], color=\"blue\", label=\"Class0\")\n",
    "            ax2.set_xlabel(\"X[0]\")\n",
    "            ax2.set_ylabel(\"X[1]\")\n",
    "        plt.legend()\n",
    "        plt.show()\n",
    "\n",
    "    \n",
    "    return W"
   ]
  },
  {
   "cell_type": "code",
   "execution_count": 146,
   "metadata": {},
   "outputs": [
    {
     "name": "stdout",
     "output_type": "stream",
     "text": [
      "Initial Weights :\n",
      "[[-0.00838385]\n",
      " [ 0.62133597]\n",
      " [-0.72008556]]\n",
      "Final weights : \n",
      "[[-3.80859915]\n",
      " [ 0.93485298]\n",
      " [ 0.13407082]]\n",
      "Final cost :  0.226041504842\n"
     ]
    },
    {
     "data": {
      "image/png": "[encoded data removed]",
      "text/plain": [
       "<matplotlib.figure.Figure at 0x7fc8153d24d0>"
      ]
     },
     "metadata": {},
     "output_type": "display_data"
    }
   ],
   "source": [
    "W = binary_logistic_regression(X, y, iterations=1000, alpha=0.05)"
   ]
  },
  {
   "cell_type": "code",
   "execution_count": 149,
   "metadata": {},
   "outputs": [
    {
     "data": {
      "text/plain": [
       "array([ 0.80249299])"
      ]
     },
     "execution_count": 149,
     "metadata": {},
     "output_type": "execute_result"
    }
   ],
   "source": [
    "predict(X[2,:] ,W)"
   ]
  },
  {
   "cell_type": "markdown",
   "metadata": {},
   "source": [
    "### Multiclass Classification : One-Vs-All Method"
   ]
  },
  {
   "cell_type": "code",
   "execution_count": 98,
   "metadata": {},
   "outputs": [],
   "source": [
    "X = np.array([ [1,1] , [2,1] , [1,3] , [2,2] , [4,3] , [5,6] , [4,5] , [5,5] , [1,9] , [1,10]  , [2,8] , [2,10] ])\n",
    "y = np.array([1 , 1 , 1 , 1 , 2 , 2 , 2 , 2 , 0 , 0 , 0 , 0])\n"
   ]
  },
  {
   "cell_type": "code",
   "execution_count": 99,
   "metadata": {},
   "outputs": [
    {
     "name": "stdout",
     "output_type": "stream",
     "text": [
      "12\n"
     ]
    }
   ],
   "source": [
    "n = X.shape[0]\n",
    "print n"
   ]
  },
  {
   "cell_type": "code",
   "execution_count": 100,
   "metadata": {},
   "outputs": [],
   "source": [
    "y = y.reshape((n,1))"
   ]
  },
  {
   "cell_type": "code",
   "execution_count": 101,
   "metadata": {},
   "outputs": [
    {
     "data": {
      "image/png": "[encoded data removed]",
      "text/plain": [
       "<matplotlib.figure.Figure at 0x7fc8159288d0>"
      ]
     },
     "metadata": {},
     "output_type": "display_data"
    }
   ],
   "source": [
    "plt.scatter((X[y[:,0]==0])[:,0], (X[y[:,0]==0])[:,1], color=\"green\", label=\"Class0\")\n",
    "plt.scatter((X[y[:,0]==1])[:,0], (X[y[:,0]==1])[:,1], color=\"red\", label=\"Class1\")\n",
    "plt.scatter((X[y[:,0]==2])[:,0], (X[y[:,0]==2])[:,1], color=\"blue\", label=\"Class2\")\n",
    "plt.xlabel(\"X[0]\")\n",
    "plt.ylabel(\"X[1]\")\n",
    "plt.legend()\n",
    "plt.show()"
   ]
  },
  {
   "cell_type": "code",
   "execution_count": 102,
   "metadata": {},
   "outputs": [],
   "source": [
    "X = np.hstack( (np.ones((n,1)).reshape(n,1) , X) )"
   ]
  },
  {
   "cell_type": "code",
   "execution_count": 103,
   "metadata": {},
   "outputs": [
    {
     "name": "stdout",
     "output_type": "stream",
     "text": [
      "Initial Weights :\n",
      "[[-0.17460021]\n",
      " [ 0.43302619]\n",
      " [ 1.20303737]]\n",
      "Final weights : \n",
      "[[ 9.27644073]\n",
      " [-2.02537024]\n",
      " [-1.35212528]]\n",
      "Final cost :  0.017725373952\n"
     ]
    },
    {
     "data": {
      "image/png": "[encoded data removed]",
      "text/plain": [
       "<matplotlib.figure.Figure at 0x7fc81533b290>"
      ]
     },
     "metadata": {},
     "output_type": "display_data"
    }
   ],
   "source": [
    "y_1 = np.array(map(lambda x : int(x==1), y)).reshape((n,1))\n",
    "W_for_1 = binary_logistic_regression(X, y_1, alpha=0.05, iterations=10000)"
   ]
  },
  {
   "cell_type": "code",
   "execution_count": 104,
   "metadata": {},
   "outputs": [
    {
     "name": "stdout",
     "output_type": "stream",
     "text": [
      "Initial Weights :\n",
      "[[-0.96506567]\n",
      " [ 1.02827408]\n",
      " [ 0.22863013]]\n",
      "Final weights : \n",
      "[[-9.21713077]\n",
      " [ 3.43276248]\n",
      " [-0.2846945 ]]\n",
      "Final cost :  0.0178433198426\n"
     ]
    },
    {
     "data": {
      "image/png": "[encoded data removed]",
      "text/plain": [
       "<matplotlib.figure.Figure at 0x7fc815680b50>"
      ]
     },
     "metadata": {},
     "output_type": "display_data"
    }
   ],
   "source": [
    "y_2 = np.array(map(lambda x : int(x==2), y)).reshape((n,1))\n",
    "W_for_2 = binary_logistic_regression(X, y_2, alpha=0.05, iterations=10000)"
   ]
  },
  {
   "cell_type": "code",
   "execution_count": 105,
   "metadata": {},
   "outputs": [
    {
     "name": "stdout",
     "output_type": "stream",
     "text": [
      "Initial Weights :\n",
      "[[ 0.44513761]\n",
      " [-1.13660221]\n",
      " [ 0.13513688]]\n",
      "Final weights : \n",
      "[[-4.69581535]\n",
      " [-4.112919  ]\n",
      " [ 2.06493187]]\n",
      "Final cost :  0.00828893260307\n"
     ]
    },
    {
     "data": {
      "image/png": "[encoded data removed]",
      "text/plain": [
       "<matplotlib.figure.Figure at 0x7fc815a0a310>"
      ]
     },
     "metadata": {},
     "output_type": "display_data"
    }
   ],
   "source": [
    "y_0 = np.array(map(lambda x : int(x==0), y)).reshape((n,1))\n",
    "W_for_0 = binary_logistic_regression(X, y_0, alpha=0.05, iterations=10000)"
   ]
  },
  {
   "cell_type": "code",
   "execution_count": 106,
   "metadata": {},
   "outputs": [
    {
     "data": {
      "image/png": "[encoded data removed]",
      "text/plain": [
       "<matplotlib.figure.Figure at 0x7fc815870b90>"
      ]
     },
     "metadata": {},
     "output_type": "display_data"
    }
   ],
   "source": [
    "axes = plt.gca()\n",
    "axes.set_ylim([min(X[:,2])-2,max(X[:,2])+2])\n",
    "_X = X[:,1]\n",
    "_y = (- W_for_1[0,:] - W_for_1[1,:] * _X)/(W_for_1[2,:])\n",
    "plt.plot(_X, _y, color=\"black\")\n",
    "_y = (- W_for_2[0,:] - W_for_2[1,:] * _X)/(W_for_2[2,:])\n",
    "plt.plot(_X, _y, color=\"black\")\n",
    "_y = (- W_for_0[0,:] - W_for_0[1,:] * _X)/(W_for_0[2,:])\n",
    "plt.plot(_X, _y, color=\"black\")\n",
    "plt.scatter((X[y[:,0]==0])[:,1], (X[y[:,0]==0])[:,2], color=\"green\", label=\"Class0\")\n",
    "plt.scatter((X[y[:,0]==1])[:,1], (X[y[:,0]==1])[:,2], color=\"red\", label=\"Class1\")\n",
    "plt.scatter((X[y[:,0]==2])[:,1], (X[y[:,0]==2])[:,2], color=\"blue\", label=\"Class2\")\n",
    "\n",
    "plt.xlabel(\"X[0]\")\n",
    "plt.ylabel(\"X[1]\")\n",
    "plt.legend()\n",
    "plt.show()"
   ]
  },
  {
   "cell_type": "markdown",
   "metadata": {},
   "source": [
    "### Multiclass prediction : Softmax Function"
   ]
  },
  {
   "cell_type": "markdown",
   "metadata": {},
   "source": [
    "$$\\sigma (z)_{j} = \\frac{e^{z_{j}}}{ \\sum_{i = 1}^{k} e^{z_{i}} }\\ \\ \\ \\ , j \\in [1,K]$$\n",
    "\n",
    "$K = Number\\ of\\ classes$"
   ]
  },
  {
   "cell_type": "code",
   "execution_count": 310,
   "metadata": {},
   "outputs": [],
   "source": [
    "def softmax(x, ax=0):\n",
    "    exp_sum = np.sum(np.exp(x), axis=ax, keepdims=True)\n",
    "    return np.exp(x)/exp_sum\n",
    "    "
   ]
  },
  {
   "cell_type": "code",
   "execution_count": 311,
   "metadata": {},
   "outputs": [],
   "source": [
    "test_point = np.array([ [1, 2.5, 4.5] ])\n",
    "pred_0 = predict(test_point, W_for_0)\n",
    "pred_1 = predict(test_point, W_for_1)\n",
    "pred_2 = predict(test_point, W_for_2)"
   ]
  },
  {
   "cell_type": "code",
   "execution_count": 312,
   "metadata": {},
   "outputs": [
    {
     "data": {
      "text/plain": [
       "array([ 0.12826916])"
      ]
     },
     "execution_count": 312,
     "metadata": {},
     "output_type": "execute_result"
    }
   ],
   "source": [
    "pred_2.ravel()"
   ]
  },
  {
   "cell_type": "code",
   "execution_count": 313,
   "metadata": {},
   "outputs": [
    {
     "data": {
      "text/plain": [
       "(1, 1)"
      ]
     },
     "execution_count": 313,
     "metadata": {},
     "output_type": "execute_result"
    }
   ],
   "source": [
    "pred_0.shape"
   ]
  },
  {
   "cell_type": "code",
   "execution_count": 314,
   "metadata": {},
   "outputs": [
    {
     "data": {
      "text/plain": [
       "array([ 0.02364054,  0.06426166,  0.1746813 ,  0.474833  ,  0.02364054,\n",
       "        0.06426166,  0.1746813 ])"
      ]
     },
     "execution_count": 314,
     "metadata": {},
     "output_type": "execute_result"
    }
   ],
   "source": [
    "softmax(np.array([1,2,3,4,1,2,3], dtype=float))"
   ]
  },
  {
   "cell_type": "code",
   "execution_count": 315,
   "metadata": {},
   "outputs": [
    {
     "data": {
      "text/plain": [
       "array([ 0.30563962,  0.34806436,  0.34629601])"
      ]
     },
     "execution_count": 315,
     "metadata": {},
     "output_type": "execute_result"
    }
   ],
   "source": [
    "softmax(np.array([pred_0[0,0], pred_1[0,0], pred_2[0,0]]))"
   ]
  },
  {
   "cell_type": "code",
   "execution_count": 316,
   "metadata": {},
   "outputs": [
    {
     "data": {
      "text/plain": [
       "(3, 1)"
      ]
     },
     "execution_count": 316,
     "metadata": {},
     "output_type": "execute_result"
    }
   ],
   "source": [
    "W_for_0.shape"
   ]
  },
  {
   "cell_type": "code",
   "execution_count": 249,
   "metadata": {},
   "outputs": [],
   "source": [
    "weights_per_class = np.array([W_for_0.ravel() , W_for_1.ravel() , W_for_2.ravel()])"
   ]
  },
  {
   "cell_type": "code",
   "execution_count": 317,
   "metadata": {},
   "outputs": [],
   "source": [
    "def multiclass_prediction(test_points , weights_per_class):\n",
    "    preds = sigmoid(np.dot(test_points , np.transpose(weights_per_class)))\n",
    "    print test_points.shape\n",
    "    print weights_per_class.shape\n",
    "    print np.dot(test_points , np.transpose(weights_per_class)).shape\n",
    "    print preds\n",
    "    probabilities = softmax(preds, ax=1)\n",
    "    print probabilities\n",
    "    print np.sum(probabilities, axis=1)\n",
    "    return np.argmax(probabilities, axis=1)\n"
   ]
  },
  {
   "cell_type": "code",
   "execution_count": 318,
   "metadata": {},
   "outputs": [
    {
     "name": "stdout",
     "output_type": "stream",
     "text": [
      "(2, 3)\n",
      "(3, 3)\n",
      "(2, 3)\n",
      "[[ 0.00338194  0.13336264  0.12826916]\n",
      " [ 0.00122763  0.0026644   0.74826324]]\n",
      "[[ 0.30563962  0.34806436  0.34629601]\n",
      " [ 0.24318052  0.24353017  0.51328932]]\n",
      "[ 1.  1.]\n"
     ]
    },
    {
     "data": {
      "text/plain": [
       "array([1, 2])"
      ]
     },
     "execution_count": 318,
     "metadata": {},
     "output_type": "execute_result"
    }
   ],
   "source": [
    "multiclass_prediction(np.array([ [1, 2.5, 4.5] , [1, 3.5, 6] ]), weights_per_class)"
   ]
  },
  {
   "cell_type": "code",
   "execution_count": 116,
   "metadata": {},
   "outputs": [],
   "source": [
    "def multiclass_logistic_regression(X, y, n_class, iterations=10000, alpha=0.05, verbose=True, eps=1e-5, plot=True):\n",
    "    n_samples = X.shape[0]\n",
    "    n_features = X.shape[1]\n",
    "    weights_per_class = np.empty(shape=(n_class,n_features))\n",
    "    \n",
    "    for i in range(n_class):\n",
    "        _y = np.array(map(lambda x : int(x==i), y)).reshape((n,1))\n",
    "        _W = binary_logistic_regression(X, _y, alpha=alpha, iterations=iterations, verbose=False, plot=False)\n",
    "        weights_per_class[i] = _W.reshape((1,-1))\n",
    "    if(plot and n_features==3):\n",
    "        colors = [\"r\" , \"g\" , \"b\", \"c\", \"m\" , \"k\" , \"w\" , \"y\"]\n",
    "        axes = plt.gca()\n",
    "        axes.set_ylim([min(X[:,2])-2,max(X[:,2])+2])\n",
    "        _X = X[:,1]\n",
    "        for i in range(n_class):\n",
    "            _y = (- weights_per_class[i,0] - weights_per_class[i,1] * _X)/(weights_per_class[i,2])\n",
    "            plt.plot(_X, _y, color=\"black\")\n",
    "        for i in range(n_class):\n",
    "            plt.scatter((X[y[:,0]==i])[:,1], (X[y[:,0]==i])[:,2], color=colors[i%8], label=\"Class\"+str(i))\n",
    "        plt.xlabel(\"X[0]\")\n",
    "        plt.ylabel(\"X[1]\")\n",
    "        plt.legend()\n",
    "        plt.show()\n",
    "    return weights_per_class\n",
    "        "
   ]
  },
  {
   "cell_type": "code",
   "execution_count": 117,
   "metadata": {},
   "outputs": [
    {
     "data": {
      "image/png": "[encoded data removed]",
      "text/plain": [
       "<matplotlib.figure.Figure at 0x7fc81586fe50>"
      ]
     },
     "metadata": {},
     "output_type": "display_data"
    },
    {
     "data": {
      "text/plain": [
       "array([[-4.40306367, -4.54808962,  2.1304726 ],\n",
       "       [ 9.22000437, -2.01182623, -1.34557914],\n",
       "       [-9.13018144,  3.40451783, -0.28508427]])"
      ]
     },
     "execution_count": 117,
     "metadata": {},
     "output_type": "execute_result"
    }
   ],
   "source": [
    "multiclass_logistic_regression(X, y, 3)"
   ]
  },
  {
   "cell_type": "code",
   "execution_count": null,
   "metadata": {},
   "outputs": [],
   "source": []
  }
 ],
 "metadata": {
  "kernelspec": {
   "display_name": "Python 2",
   "language": "python",
   "name": "python2"
  },
  "language_info": {
   "codemirror_mode": {
    "name": "ipython",
    "version": 2
   },
   "file_extension": ".py",
   "mimetype": "text/x-python",
   "name": "python",
   "nbconvert_exporter": "python",
   "pygments_lexer": "ipython2",
   "version": "2.7.12"
  }
 },
 "nbformat": 4,
 "nbformat_minor": 2
}
